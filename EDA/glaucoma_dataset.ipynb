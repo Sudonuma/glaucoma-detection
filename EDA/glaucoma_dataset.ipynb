{
 "cells": [
  {
   "cell_type": "code",
   "execution_count": 1,
   "metadata": {},
   "outputs": [],
   "source": [
    "import pandas as pd\n",
    "import numpy as np\n",
    "import matplotlib.pyplot as plt\n",
    "from sklearn.preprocessing import LabelEncoder\n",
    "from sklearn.model_selection import train_test_split"
   ]
  },
  {
   "cell_type": "code",
   "execution_count": 15,
   "metadata": {},
   "outputs": [],
   "source": [
    "# Load the CSV\n",
    "csv_file = '../data/dataset/train_labels.csv'\n",
    "df = pd.read_csv(csv_file)"
   ]
  },
  {
   "cell_type": "code",
   "execution_count": 16,
   "metadata": {},
   "outputs": [
    {
     "name": "stdout",
     "output_type": "stream",
     "text": [
      "Number of images: (101442, 2)\n"
     ]
    }
   ],
   "source": [
    "# How many images\n",
    "num_images = df.shape\n",
    "print(\"Number of images:\", num_images)"
   ]
  },
  {
   "cell_type": "code",
   "execution_count": 17,
   "metadata": {},
   "outputs": [
    {
     "name": "stdout",
     "output_type": "stream",
     "text": [
      "Number of unique classes: 2\n"
     ]
    }
   ],
   "source": [
    "#  How many classes are in the labels\n",
    "unique_classes = df['class'].nunique()\n",
    "print(\"Number of unique classes:\", unique_classes)"
   ]
  },
  {
   "cell_type": "code",
   "execution_count": 18,
   "metadata": {},
   "outputs": [
    {
     "name": "stdout",
     "output_type": "stream",
     "text": [
      "class\n",
      "NRG    98172\n",
      "RG      3270\n",
      "Name: count, dtype: int64\n"
     ]
    }
   ],
   "source": [
    "class_counts = df['class'].value_counts()\n",
    "print(class_counts)"
   ]
  },
  {
   "cell_type": "code",
   "execution_count": 19,
   "metadata": {},
   "outputs": [
    {
     "data": {
      "text/html": [
       "<div>\n",
       "<style scoped>\n",
       "    .dataframe tbody tr th:only-of-type {\n",
       "        vertical-align: middle;\n",
       "    }\n",
       "\n",
       "    .dataframe tbody tr th {\n",
       "        vertical-align: top;\n",
       "    }\n",
       "\n",
       "    .dataframe thead th {\n",
       "        text-align: right;\n",
       "    }\n",
       "</style>\n",
       "<table border=\"1\" class=\"dataframe\">\n",
       "  <thead>\n",
       "    <tr style=\"text-align: right;\">\n",
       "      <th></th>\n",
       "      <th>challenge_id</th>\n",
       "      <th>class</th>\n",
       "    </tr>\n",
       "  </thead>\n",
       "  <tbody>\n",
       "    <tr>\n",
       "      <th>0</th>\n",
       "      <td>TRAIN000000</td>\n",
       "      <td>NRG</td>\n",
       "    </tr>\n",
       "    <tr>\n",
       "      <th>1</th>\n",
       "      <td>TRAIN000001</td>\n",
       "      <td>NRG</td>\n",
       "    </tr>\n",
       "    <tr>\n",
       "      <th>2</th>\n",
       "      <td>TRAIN000002</td>\n",
       "      <td>NRG</td>\n",
       "    </tr>\n",
       "    <tr>\n",
       "      <th>3</th>\n",
       "      <td>TRAIN000003</td>\n",
       "      <td>NRG</td>\n",
       "    </tr>\n",
       "    <tr>\n",
       "      <th>4</th>\n",
       "      <td>TRAIN000004</td>\n",
       "      <td>NRG</td>\n",
       "    </tr>\n",
       "  </tbody>\n",
       "</table>\n",
       "</div>"
      ],
      "text/plain": [
       "  challenge_id class\n",
       "0  TRAIN000000   NRG\n",
       "1  TRAIN000001   NRG\n",
       "2  TRAIN000002   NRG\n",
       "3  TRAIN000003   NRG\n",
       "4  TRAIN000004   NRG"
      ]
     },
     "execution_count": 19,
     "metadata": {},
     "output_type": "execute_result"
    }
   ],
   "source": [
    "df.head()"
   ]
  },
  {
   "cell_type": "code",
   "execution_count": 21,
   "metadata": {},
   "outputs": [],
   "source": [
    "# encode dataset classes\n",
    "\n",
    "label_encoder = LabelEncoder()\n",
    "df['labels'] = label_encoder.fit_transform(df['class'])\n",
    "df = df.drop(columns=['class'])\n",
    "\n",
    "# Save the dataframe\n",
    "df.to_csv('../data/dataset/encoded_dataset.csv', index=False)"
   ]
  },
  {
   "cell_type": "code",
   "execution_count": 22,
   "metadata": {},
   "outputs": [],
   "source": [
    "# Balance the dataset\n",
    "data_path = '../data/dataset/encoded_dataset.csv'\n",
    "data = pd.read_csv(data_path)\n",
    "\n",
    "# Separate the data based on the label\n",
    "label_0_data = data[data['labels'] == 0]\n",
    "label_1_data = data[data['labels'] == 1]\n",
    "\n",
    "# The number of samples to keep\n",
    "num_samples = min(len(label_0_data), len(label_1_data))\n",
    "\n",
    "# Sample an equal number of samples from each class\n",
    "sampled_label_0 = label_0_data.sample(n=num_samples, random_state=42)\n",
    "sampled_label_1 = label_1_data.sample(n=num_samples, random_state=42)\n",
    "\n",
    "# Concatenate the dataset\n",
    "balanced_data = pd.concat([sampled_label_0, sampled_label_1])\n",
    "\n",
    "# Shuffle the dataset\n",
    "balanced_data = balanced_data.sample(frac=1, random_state=42).reset_index(drop=True)\n",
    "\n",
    "# Save to new .csv file\n",
    "balanced_data.to_csv('../data/dataset/reduced_balanced_data.csv', index=False)"
   ]
  },
  {
   "cell_type": "code",
   "execution_count": 23,
   "metadata": {},
   "outputs": [],
   "source": [
    "# create test data and remove it from the .csv file\n",
    "\n",
    "data_path = '../data/dataset/reduced_balanced_data.csv'\n",
    "data = pd.read_csv(data_path)\n",
    "\n",
    "\n",
    "# Split the data into the 10% sample and the remaining data\n",
    "sampled_data, remaining_data = train_test_split(data, test_size=0.10, stratify=data['labels'], random_state=42)\n",
    "\n",
    "# Save the sampled data to a new CSV file\n",
    "sampled_data.to_csv('../data/dataset/reduced_encoded_train_data.csv', index=False)\n",
    "\n",
    "# Save the remaining data back to the original CSV file\n",
    "remaining_data.to_csv('../data/dataset/test_data.csv', index=False)"
   ]
  },
  {
   "cell_type": "code",
   "execution_count": null,
   "metadata": {},
   "outputs": [],
   "source": []
  }
 ],
 "metadata": {
  "kernelspec": {
   "display_name": "glaucoma",
   "language": "python",
   "name": "python3"
  },
  "language_info": {
   "codemirror_mode": {
    "name": "ipython",
    "version": 3
   },
   "file_extension": ".py",
   "mimetype": "text/x-python",
   "name": "python",
   "nbconvert_exporter": "python",
   "pygments_lexer": "ipython3",
   "version": "3.9.17"
  }
 },
 "nbformat": 4,
 "nbformat_minor": 2
}
